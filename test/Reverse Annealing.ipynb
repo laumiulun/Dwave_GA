{
 "cells": [
  {
   "cell_type": "code",
   "execution_count": 14,
   "id": "19405553",
   "metadata": {},
   "outputs": [],
   "source": [
    "import numpy as np\n",
    "from helper import *"
   ]
  },
  {
   "cell_type": "code",
   "execution_count": 5,
   "id": "80162914",
   "metadata": {},
   "outputs": [
    {
     "data": {
      "text/plain": [
       "[StructuredSolver(id='DW_2000Q_6'),\n",
       " BQMSolver(id='hybrid_binary_quadratic_model_version2'),\n",
       " DQMSolver(id='hybrid_discrete_quadratic_model_version1'),\n",
       " StructuredSolver(id='Advantage_system1.1')]"
      ]
     },
     "execution_count": 5,
     "metadata": {},
     "output_type": "execute_result"
    }
   ],
   "source": [
    "from dwave.cloud import Client\n",
    "api_key = read_api('API_key.txt');\n",
    "client = Client.from_config(token=api_key)\n",
    "\n",
    "client.get_solvers()"
   ]
  },
  {
   "cell_type": "code",
   "execution_count": 11,
   "id": "305e0f8e",
   "metadata": {},
   "outputs": [
    {
     "name": "stdout",
     "output_type": "stream",
     "text": [
      "Connected to sampler Advantage_system1.1\n"
     ]
    }
   ],
   "source": [
    "from dwave.system.samplers import DWaveSampler\n",
    "\n",
    "sampler = DWaveSampler(token=api_key)   \n",
    "\n",
    "print(\"Connected to sampler\", sampler.solver.name)"
   ]
  },
  {
   "cell_type": "code",
   "execution_count": 12,
   "id": "a8e7e894",
   "metadata": {},
   "outputs": [
    {
     "name": "stdout",
     "output_type": "stream",
     "text": [
      "Maximum anneal-schedule points: 12\n",
      "Annealing time range: [1, 2000]\n",
      "Maximum slope allowed on this solver is 1.00.\n"
     ]
    }
   ],
   "source": [
    "print(\"Maximum anneal-schedule points: {}\".format(sampler.properties[\"max_anneal_schedule_points\"]))\n",
    "print(\"Annealing time range: {}\".format(sampler.properties[\"annealing_time_range\"]))\n",
    "\n",
    "max_slope = 1.0/sampler.properties[\"annealing_time_range\"][0]\n",
    "\n",
    "print(\"Maximum slope allowed on this solver is {:.2f}.\".format(max_slope))"
   ]
  },
  {
   "cell_type": "markdown",
   "id": "bf3c5852",
   "metadata": {},
   "source": [
    "### Assigned a initial state"
   ]
  },
  {
   "cell_type": "code",
   "execution_count": 15,
   "id": "d8f5c899",
   "metadata": {},
   "outputs": [
    {
     "name": "stdout",
     "output_type": "stream",
     "text": [
      "Bias 0 assigned to 5436 qubits.\n",
      "Strengths -1/+1 assigned randomly to 37440 couplers.\n"
     ]
    }
   ],
   "source": [
    "h = {v: 0.0 for v in sampler.nodelist}\n",
    "J = {tuple(c): np.random.choice([-1, 1]) for c in sampler.edgelist}\n",
    "\n",
    "print(\"Bias 0 assigned to\", len(h), \"qubits.\")\n",
    "print(\"Strengths -1/+1 assigned randomly to\",len(J),\"couplers.\")"
   ]
  },
  {
   "cell_type": "code",
   "execution_count": 29,
   "id": "492b288d",
   "metadata": {},
   "outputs": [
    {
     "name": "stdout",
     "output_type": "stream",
     "text": [
      "[[0.0, 1.0], [2.25, 0.55], [102.25, 0.55], [102.7, 1.0]]\n",
      "Total anneal-schedule time is 102.7 us\n"
     ]
    }
   ],
   "source": [
    "from schedule import *\n",
    "\n",
    "reverse_schedule = make_reverse_anneal_schedule(s_target=0.55, hold_time=100, ramp_up_slope=max_slope)\n",
    "time_total = reverse_schedule[3][0]\n",
    "\n",
    "print(reverse_schedule)\n",
    "print(\"Total anneal-schedule time is {} us\".format(time_total))"
   ]
  },
  {
   "cell_type": "markdown",
   "id": "4900c109",
   "metadata": {},
   "source": [
    "### Perform a forward annealing "
   ]
  },
  {
   "cell_type": "code",
   "execution_count": 34,
   "id": "8dfa285d",
   "metadata": {},
   "outputs": [
    {
     "name": "stdout",
     "output_type": "stream",
     "text": [
      "Lowest energy found: -14694.0\n",
      "Average energy is -14650.21 with standard deviation 15.58\n",
      "\n",
      "Setting the initial state to a sample with energy: -14682.0\n"
     ]
    }
   ],
   "source": [
    "forward_answer = sampler.sample_ising(h, J, \n",
    "                                      num_reads=1000, \n",
    "                                      annealing_time=time_total, \n",
    "                                      label='Test_Notebook',\n",
    "                                      answer_mode='histogram')\n",
    "forward_solutions, forward_energies = forward_answer.record.sample, forward_answer.record.energy\n",
    "i5 = int(1.0/95*len(forward_answer))  \n",
    "\n",
    "# Zip the answer\n",
    "initial = dict(zip(forward_answer.variables, forward_answer.record[i5].sample))\n",
    "\n",
    "print(\"Lowest energy found: {}\".format(forward_answer.record.energy[0]))\n",
    "print(\"Average energy is {:.2f} with standard deviation {:.2f}\".format(forward_energies.mean(), forward_energies.std()))\n",
    "print(\"\\nSetting the initial state to a sample with energy: {}\".format(forward_answer.record.energy[i5]))"
   ]
  },
  {
   "cell_type": "markdown",
   "id": "0da48cd3",
   "metadata": {},
   "source": [
    "### Perform a backward anneal"
   ]
  },
  {
   "cell_type": "code",
   "execution_count": 33,
   "id": "96960889",
   "metadata": {},
   "outputs": [
    {
     "name": "stdout",
     "output_type": "stream",
     "text": [
      "Lowest energy found: -14690.0\n",
      "Average energy is -14684.84 with standard deviation 3.28\n"
     ]
    }
   ],
   "source": [
    "reverse_anneal_params = dict(anneal_schedule=reverse_schedule, initial_state=initial, reinitialize_state=False)\n",
    "reverse_answer = sampler.sample_ising(h, J, \n",
    "                                      num_reads=1000, \n",
    "                                      label='Test_Notebook',\n",
    "                                      answer_mode='histogram',\n",
    "                                     **reverse_anneal_params)\n",
    "reverse_solutions, reverse_energies = reverse_answer.record.sample, reverse_answer.record.energy\n",
    "\n",
    "print(\"Lowest energy found:\", reverse_answer.record.energy[0])\n",
    "print(\"Average energy is {:.2f} with standard deviation {:.2f}\".format(reverse_energies.mean(), reverse_energies.std()))"
   ]
  },
  {
   "cell_type": "code",
   "execution_count": null,
   "id": "c6a371a5",
   "metadata": {},
   "outputs": [],
   "source": []
  }
 ],
 "metadata": {
  "kernelspec": {
   "display_name": "Python 3",
   "language": "python",
   "name": "python3"
  },
  "language_info": {
   "codemirror_mode": {
    "name": "ipython",
    "version": 3
   },
   "file_extension": ".py",
   "mimetype": "text/x-python",
   "name": "python",
   "nbconvert_exporter": "python",
   "pygments_lexer": "ipython3",
   "version": "3.9.5"
  }
 },
 "nbformat": 4,
 "nbformat_minor": 5
}
