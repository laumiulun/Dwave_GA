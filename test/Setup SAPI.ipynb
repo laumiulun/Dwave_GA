{
 "cells": [
  {
   "cell_type": "code",
   "execution_count": 6,
   "id": "5a86d235",
   "metadata": {},
   "outputs": [],
   "source": [
    "import numpy "
   ]
  },
  {
   "cell_type": "code",
   "execution_count": 10,
   "id": "54aa8280",
   "metadata": {},
   "outputs": [],
   "source": [
    "def read_api(file):\n",
    "    with open(file,'r') as file:\n",
    "        data = file.read().replace('\\n','')\n",
    "        \n",
    "    return data"
   ]
  },
  {
   "cell_type": "code",
   "execution_count": 15,
   "id": "dcc56237",
   "metadata": {},
   "outputs": [
    {
     "data": {
      "text/plain": [
       "[StructuredSolver(id='DW_2000Q_6'),\n",
       " StructuredSolver(id='Advantage_system1.1'),\n",
       " BQMSolver(id='hybrid_binary_quadratic_model_version2'),\n",
       " DQMSolver(id='hybrid_discrete_quadratic_model_version1')]"
      ]
     },
     "execution_count": 15,
     "metadata": {},
     "output_type": "execute_result"
    }
   ],
   "source": [
    "from dwave.cloud import Client\n",
    "api_key = read_api('API_key.txt')\n",
    "client = Client.from_config(token=api_key)\n",
    "\n",
    "client.get_solvers()"
   ]
  },
  {
   "cell_type": "code",
   "execution_count": null,
   "id": "cddb8fb5",
   "metadata": {},
   "outputs": [],
   "source": []
  }
 ],
 "metadata": {
  "kernelspec": {
   "display_name": "Python 3",
   "language": "python",
   "name": "python3"
  },
  "language_info": {
   "codemirror_mode": {
    "name": "ipython",
    "version": 3
   },
   "file_extension": ".py",
   "mimetype": "text/x-python",
   "name": "python",
   "nbconvert_exporter": "python",
   "pygments_lexer": "ipython3",
   "version": "3.9.5"
  }
 },
 "nbformat": 4,
 "nbformat_minor": 5
}
